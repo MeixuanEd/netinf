{
 "cells": [
  {
   "cell_type": "code",
   "execution_count": null,
   "metadata": {},
   "outputs": [],
   "source": [
    "library(rEDM)\n",
    "require(R.matlab)\n"
   ]
  },
  {
   "cell_type": "code",
   "execution_count": 1,
   "metadata": {},
   "outputs": [
    {
     "name": "stdout",
     "output_type": "stream",
     "text": [
      "[1] \"../PERT/HarmonicExperiments/EXPVaryPertsObs(nvars5_prob0.50_spring0.10_damping0.30_pertf30.00)\"\n"
     ]
    }
   ],
   "source": [
    "nvars <- 5\n",
    "prob <- 0.5\n",
    "spring <- 0.1\n",
    "damping <- 0.3\n",
    "pertForce <- 30\n",
    "\n",
    "expName <- sprintf(\"EXPVaryPertsObs(nvars%d_prob%.2f_spring%.2f_damping%.2f_pertf%.2f)\", nvars, prob, spring, damping, pertForce);\n",
    "expPath <- sprintf(\"../PERT/HarmonicExperiments/%s\", expName);\n",
    "\n",
    "print(expPath)\n"
   ]
  },
  {
   "cell_type": "code",
   "execution_count": 2,
   "metadata": {
    "scrolled": true
   },
   "outputs": [
    {
     "name": "stdin",
     "output_type": "stream",
     "text": [
      "../PERT/HarmonicExperiments/EXPVaryPertsObs(nvars5_prob0.50_spring0.10_damping0.30_pertf30.00)/CCMResults\n",
      " already exists, would you like to continue and overwrite these results (Y/N):  y\n"
     ]
    }
   ],
   "source": [
    "if (!dir.exists(expPath)) {\n",
    "    print(sprintf(\"Data not found: %s\", expPath))\n",
    "}\n",
    "\n",
    "resultPath <- sprintf(\"%s/CCMResults\", expPath)\n",
    "if (!dir.exists(resultPath)) {\n",
    "    dir.create(resultPath)\n",
    "} else {\n",
    "    m <- readline(prompt=sprintf(\"%s\\n already exists, would you like to continue and overwrite these results (Y/N): \", resultPath))\n",
    "    if (toupper(m) == \"N\") {\n",
    "        stop()\n",
    "    }\n",
    "}\n",
    "\n"
   ]
  },
  {
   "cell_type": "code",
   "execution_count": null,
   "metadata": {
    "scrolled": false
   },
   "outputs": [],
   "source": [
    "numObs <- 5\n",
    "numPerts <- 5\n",
    "\n",
    "# Show a sample data trajectory\n",
    "dataLog <- readMat(sprintf(\"%s/numobs%d/numperts%d/dataLog.mat\", expPath, numObs, numPerts))[[1]]\n",
    "data1 <- dataLog[10][[1]][[1]]\n",
    "matplot(t(data1[,,1]), type='l')\n",
    "\n",
    "# Show a sample matrix that this data was generated from\n",
    "trueMats <- readMat(sprintf(\"%s/numobs%d/numperts%d/trueMats.mat\", expPath, numObs, numPerts))[[1]]\n",
    "print(trueMats[1,,])"
   ]
  },
  {
   "cell_type": "code",
   "execution_count": null,
   "metadata": {},
   "outputs": [],
   "source": [
    "# Perform CCM analysis on sample data\n",
    "source('ccm_helper.R')\n",
    "\n",
    "\n",
    "E <- 1\n",
    "names <- paste(\"node\", 1:nvars, sep=\"\")\n",
    "nobs <- dim(data1)[2]\n",
    "libs <- seq(10, nobs - 10, by=20)\n",
    "\n",
    "ccm_rho_graphs <- get_ccm_rho(data1, E, names, lib_sizes=libs);\n",
    "adj_mats <- get_adj(ccm_rho_graphs);\n",
    "adj <- apply(adj_mats, c(1, 2), mean)\n",
    "\n",
    "\n",
    "rgb.palette <- colorRampPalette(c(\"blue\", \"red\"), space = \"rgb\")\n",
    "myPanel <- function(x, y, z, ...) {\n",
    "  panel.levelplot(x,y,z,...)\n",
    "  panel.text(x, y, round(z,3))\n",
    "}\n",
    "\n",
    "levelplot(adj, main=\"Harmonic Analysis Correlation\",\n",
    "          xlab=\"\", ylab=\"\", ylim=c(length(names) + 0.5, 0.5),\n",
    "          col.regions=rgb.palette(120),\n",
    "          at=seq(0, 1, length.out=120),\n",
    "          panel=myPanel)"
   ]
  },
  {
   "cell_type": "code",
   "execution_count": null,
   "metadata": {},
   "outputs": [],
   "source": []
  }
 ],
 "metadata": {
  "kernelspec": {
   "display_name": "R",
   "language": "R",
   "name": "ir"
  },
  "language_info": {
   "codemirror_mode": "r",
   "file_extension": ".r",
   "mimetype": "text/x-r-source",
   "name": "R",
   "pygments_lexer": "r",
   "version": "3.5.1"
  }
 },
 "nbformat": 4,
 "nbformat_minor": 2
}
